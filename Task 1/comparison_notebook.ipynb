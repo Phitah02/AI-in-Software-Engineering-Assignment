{
 "cells": [
  {
   "cell_type": "markdown",
   "metadata": {},
   "source": [
    "# Comparison of Manual vs AI-Suggested Implementation\n",
    "This notebook compares two different implementations of a function that sorts a list of dictionaries by a specific key:\n",
    "1. Manual Implementation (using Bubble Sort)\n",
    "2. AI-Suggested Implementation (using Python's built-in sorted function)"
   ]
  },
  {
   "cell_type": "markdown",
   "metadata": {},
   "source": [
    "## Part A: Manual Implementation\n",
    "First, let's look at the manual implementation that uses the Bubble Sort algorithm:"
   ]
  },
  {
   "cell_type": "code",
   "execution_count": 1,
   "metadata": {},
   "outputs": [],
   "source": [
    "def sort_dictionaries_by_key(dict_list, sort_key):\n",
    "    \"\"\"\n",
    "    Sort a list of dictionaries by a specific key using a manual bubble sort implementation.\n",
    "    \n",
    "    Args:\n",
    "        dict_list (list): List of dictionaries to be sorted\n",
    "        sort_key (str): Key to sort the dictionaries by\n",
    "        \n",
    "    Returns:\n",
    "        list: Sorted list of dictionaries\n",
    "    \"\"\"\n",
    "    # Create a copy of the input list to avoid modifying the original\n",
    "    result = dict_list.copy()\n",
    "    n = len(result)\n",
    "    \n",
    "    # Implement bubble sort manually\n",
    "    for i in range(n):\n",
    "        # Flag to optimize bubble sort\n",
    "        swapped = False\n",
    "        \n",
    "        for j in range(0, n - i - 1):\n",
    "            # Compare adjacent elements\n",
    "            if result[j][sort_key] > result[j + 1][sort_key]:\n",
    "                # Swap if they are in wrong order\n",
    "                result[j], result[j + 1] = result[j + 1], result[j]\n",
    "                swapped = True\n",
    "        \n",
    "        # If no swapping occurred, array is already sorted\n",
    "        if not swapped:\n",
    "            break\n",
    "    \n",
    "    return result"
   ]
  },
  {
   "cell_type": "markdown",
   "metadata": {},
   "source": [
    "## Part B: AI-Suggested Implementation\n",
    "Now, let's look at the AI-suggested implementation that uses Python's built-in sorting:"
   ]
  },
  {
   "cell_type": "code",
   "execution_count": 2,
   "metadata": {},
   "outputs": [],
   "source": [
    "def sort_dictionaries_by_key(dict_list, sort_key):\n",
    "    \"\"\"\n",
    "    Sort a list of dictionaries by a specific key using a more Pythonic approach.\n",
    "    \n",
    "    Args:\n",
    "        dict_list (list): List of dictionaries to be sorted\n",
    "        sort_key (str): Key to sort the dictionaries by\n",
    "        \n",
    "    Returns:\n",
    "        list: Sorted list of dictionaries\n",
    "    \"\"\"\n",
    "    # Using the sorted function with a lambda as key function\n",
    "    return sorted(dict_list, key=lambda x: x[sort_key])"
   ]
  },
  {
   "cell_type": "markdown",
   "metadata": {},
   "source": [
    "## Testing Both Implementations\n",
    "Let's create some test data and compare the performance of both implementations:"
   ]
  },
  {
   "cell_type": "code",
   "execution_count": 3,
   "metadata": {},
   "outputs": [
    {
     "name": "stdout",
     "output_type": "stream",
     "text": [
      "Manual Implementation Result: [{'name': 'Alice', 'age': 25, 'city': 'London'}, {'name': 'Bob', 'age': 35, 'city': 'Paris'}, {'name': 'Diana', 'age': 28, 'city': 'Tokyo'}, {'name': 'John', 'age': 30, 'city': 'New York'}]\n",
      "Manual Implementation Time: 0.000212 seconds\n",
      "\n",
      "AI Implementation Result: [{'name': 'Alice', 'age': 25, 'city': 'London'}, {'name': 'Bob', 'age': 35, 'city': 'Paris'}, {'name': 'Diana', 'age': 28, 'city': 'Tokyo'}, {'name': 'John', 'age': 30, 'city': 'New York'}]\n",
      "AI Implementation Time: 0.000235 seconds\n"
     ]
    }
   ],
   "source": [
    "import time\n",
    "\n",
    "# Test data\n",
    "people = [\n",
    "    {\"name\": \"John\", \"age\": 30, \"city\": \"New York\"},\n",
    "    {\"name\": \"Alice\", \"age\": 25, \"city\": \"London\"},\n",
    "    {\"name\": \"Bob\", \"age\": 35, \"city\": \"Paris\"},\n",
    "    {\"name\": \"Diana\", \"age\": 28, \"city\": \"Tokyo\"}\n",
    "]\n",
    "\n",
    "# Test manual implementation\n",
    "start_time = time.time()\n",
    "manual_result = sort_dictionaries_by_key(people, \"name\")\n",
    "manual_time = time.time() - start_time\n",
    "\n",
    "# Test AI implementation\n",
    "start_time = time.time()\n",
    "ai_result = sorted(people, key=lambda x: x[\"name\"])\n",
    "ai_time = time.time() - start_time\n",
    "\n",
    "print(\"Manual Implementation Result:\", manual_result)\n",
    "print(f\"Manual Implementation Time: {manual_time:.6f} seconds\\n\")\n",
    "\n",
    "print(\"AI Implementation Result:\", ai_result)\n",
    "print(f\"AI Implementation Time: {ai_time:.6f} seconds\")"
   ]
  },
  {
   "cell_type": "markdown",
   "metadata": {},
   "source": [
    "## Efficiency Analysis\n",
    "\n",
    "### Time Complexity\n",
    "1. Manual Implementation (Bubble Sort):\n",
    "   - Time Complexity: O(n²)\n",
    "   - Space Complexity: O(1) for sorting (excluding the input copy)\n",
    "\n",
    "2. AI-Suggested Implementation (Timsort):\n",
    "   - Time Complexity: O(n log n)\n",
    "   - Space Complexity: O(n)\n",
    "\n",
    "### Why the AI-Suggested Version is More Efficient:\n",
    "\n",
    "1. **Better Algorithm**: \n",
    "   - Uses Python's built-in `sorted()` function which implements Timsort\n",
    "   - Timsort is a hybrid sorting algorithm that combines merge sort and insertion sort\n",
    "   - O(n log n) is significantly faster than bubble sort's O(n²) for larger datasets\n",
    "\n",
    "2. **Code Quality**:\n",
    "   - More concise and readable\n",
    "   - Less prone to bugs due to simpler implementation\n",
    "   - Easier to maintain\n",
    "\n",
    "3. **Optimization**:\n",
    "   - Takes advantage of Python's optimized C implementation\n",
    "   - Timsort is specifically designed to work well with real-world data\n",
    "   - Adaptive algorithm that performs well on partially sorted data\n",
    "\n",
    "4. **Memory Usage**:\n",
    "   - While the AI version uses more memory (O(n) vs O(1) for the sorting part),\n",
    "     the performance benefit usually outweighs the memory cost\n",
    "\n",
    "### Conclusion\n",
    "The AI-suggested implementation is superior in most practical scenarios because:\n",
    "- It has better time complexity (O(n log n) vs O(n²))\n",
    "- Uses Python's optimized built-in functions\n",
    "- Is more readable and maintainable\n",
    "- Less prone to implementation errors\n",
    "\n",
    "The manual implementation might only be preferred in extremely memory-constrained environments where O(1) space complexity is critical, but such cases are rare in modern applications."
   ]
  },
  {
   "cell_type": "markdown",
   "metadata": {},
   "source": [
    "# Comparison of Manual vs AI-Generated Sorting Implementations\n",
    "\n",
    "This notebook compares two implementations for sorting a list of dictionaries by a specific key:\n",
    "- **Manual Implementation**: Uses a custom bubble sort algorithm.\n",
    "- **AI Implementation**: Uses Python's built-in `sorted()` function with a lambda key.\n",
    "\n",
    "We will evaluate their efficiency based on time complexity analysis and runtime performance measurements."
   ]
  },
  {
   "cell_type": "markdown",
   "metadata": {},
   "source": [
    "## Part A: Manual Implementation"
   ]
  },
  {
   "cell_type": "code",
   "execution_count": 4,
   "metadata": {},
   "outputs": [],
   "source": [
    "def sort_dictionaries_by_key(dict_list, sort_key):\n",
    "    \"\"\"\n",
    "    Sort a list of dictionaries by a specific key using a manual bubble sort implementation.\n",
    "    \n",
    "    Args:\n",
    "        dict_list (list): List of dictionaries to be sorted\n",
    "        sort_key (str): Key to sort the dictionaries by\n",
    "        \n",
    "    Returns:\n",
    "        list: Sorted list of dictionaries\n",
    "    \"\"\"\n",
    "    # Create a copy of the input list to avoid modifying the original\n",
    "    result = dict_list.copy()\n",
    "    n = len(result)\n",
    "    \n",
    "    # Implement bubble sort manually\n",
    "    for i in range(n):\n",
    "        # Flag to optimize bubble sort\n",
    "        swapped = False\n",
    "        \n",
    "        for j in range(0, n - i - 1):\n",
    "            # Compare adjacent elements\n",
    "            if result[j][sort_key] > result[j + 1][sort_key]:\n",
    "                # Swap if they are in wrong order\n",
    "                result[j], result[j + 1] = result[j + 1], result[j]\n",
    "                swapped = True\n",
    "        \n",
    "        # If no swapping occurred, array is already sorted\n",
    "        if not swapped:\n",
    "            break\n",
    "    \n",
    "    return result"
   ]
  },
  {
   "cell_type": "markdown",
   "metadata": {},
   "source": [
    "## Part B: AI Implementation"
   ]
  },
  {
   "cell_type": "code",
   "execution_count": 5,
   "metadata": {},
   "outputs": [],
   "source": [
    "def sort_dictionaries_by_key(dict_list, sort_key):\n",
    "    \"\"\"\n",
    "    Sort a list of dictionaries by a specific key using a more Pythonic approach.\n",
    "    \n",
    "    Args:\n",
    "        dict_list (list): List of dictionaries to be sorted\n",
    "        sort_key (str): Key to sort the dictionaries by\n",
    "        \n",
    "    Returns:\n",
    "        list: Sorted list of dictionaries\n",
    "    \"\"\"\n",
    "    # Using the sorted function with a lambda as key function\n",
    "    # This is more efficient as it uses Python's built-in sorting algorithm (Timsort)\n",
    "    return sorted(dict_list, key=lambda x: x[sort_key])"
   ]
  },
  {
   "cell_type": "code",
   "execution_count": 6,
   "metadata": {},
   "outputs": [],
   "source": [
    "# Import necessary modules\n",
    "import time\n",
    "\n",
    "# Sample data for testing\n",
    "people = [\n",
    "    {\"name\": \"John\", \"age\": 30, \"city\": \"New York\"},\n",
    "    {\"name\": \"Alice\", \"age\": 25, \"city\": \"London\"},\n",
    "    {\"name\": \"Bob\", \"age\": 35, \"city\": \"Paris\"},\n",
    "    {\"name\": \"Diana\", \"age\": 28, \"city\": \"Tokyo\"}\n",
    "]\n",
    "\n",
    "# Larger dataset for performance testing\n",
    "large_people = [\n",
    "    {\"name\": f\"Person{i}\", \"age\": i % 100, \"city\": f\"City{i % 50}\"}\n",
    "    for i in range(1000)\n",
    "]"
   ]
  },
  {
   "cell_type": "code",
   "execution_count": 7,
   "metadata": {},
   "outputs": [
    {
     "name": "stdout",
     "output_type": "stream",
     "text": [
      "Manual sort by age:\n",
      "{'name': 'Alice', 'age': 25, 'city': 'London'}\n",
      "{'name': 'Diana', 'age': 28, 'city': 'Tokyo'}\n",
      "{'name': 'John', 'age': 30, 'city': 'New York'}\n",
      "{'name': 'Bob', 'age': 35, 'city': 'Paris'}\n",
      "\n",
      "AI sort by age:\n",
      "{'name': 'Alice', 'age': 25, 'city': 'London'}\n",
      "{'name': 'Diana', 'age': 28, 'city': 'Tokyo'}\n",
      "{'name': 'John', 'age': 30, 'city': 'New York'}\n",
      "{'name': 'Bob', 'age': 35, 'city': 'Paris'}\n",
      "\n",
      "Results match: True\n"
     ]
    }
   ],
   "source": [
    "# Test correctness on small dataset\n",
    "print(\"Manual sort by age:\")\n",
    "manual_result = sort_dictionaries_by_key(people, \"age\")  # Using the manual function\n",
    "for p in manual_result:\n",
    "    print(p)\n",
    "\n",
    "print(\"\\nAI sort by age:\")\n",
    "ai_result = sort_dictionaries_by_key(people, \"age\")  # Using the AI function\n",
    "for p in ai_result:\n",
    "    print(p)\n",
    "\n",
    "print(\"\\nResults match:\", manual_result == ai_result)"
   ]
  },
  {
   "cell_type": "code",
   "execution_count": 8,
   "metadata": {},
   "outputs": [
    {
     "name": "stdout",
     "output_type": "stream",
     "text": [
      "Average time for manual sort: 0.391698 seconds\n",
      "Average time for AI sort: 0.000519 seconds\n",
      "AI sort is 754.70 times faster\n"
     ]
    }
   ],
   "source": [
    "# Performance comparison on larger dataset\n",
    "def time_sort(func, data, key, runs=10):\n",
    "    times = []\n",
    "    for _ in range(runs):\n",
    "        start = time.time()\n",
    "        func(data, key)\n",
    "        end = time.time()\n",
    "        times.append(end - start)\n",
    "    return sum(times) / len(times)\n",
    "\n",
    "# Note: In this notebook, both functions are defined above, so we need to distinguish them\n",
    "# For demonstration, we'll assume the first is manual, second is AI\n",
    "# But since they have the same name, we need to rename them in the notebook\n",
    "# Let's define them with different names\n",
    "\n",
    "def manual_sort(dict_list, sort_key):\n",
    "    result = dict_list.copy()\n",
    "    n = len(result)\n",
    "    for i in range(n):\n",
    "        swapped = False\n",
    "        for j in range(0, n - i - 1):\n",
    "            if result[j][sort_key] > result[j + 1][sort_key]:\n",
    "                result[j], result[j + 1] = result[j + 1], result[j]\n",
    "                swapped = True\n",
    "        if not swapped:\n",
    "            break\n",
    "    return result\n",
    "\n",
    "def ai_sort(dict_list, sort_key):\n",
    "    return sorted(dict_list, key=lambda x: x[sort_key])\n",
    "\n",
    "manual_time = time_sort(manual_sort, large_people, \"age\")\n",
    "ai_time = time_sort(ai_sort, large_people, \"age\")\n",
    "\n",
    "print(f\"Average time for manual sort: {manual_time:.6f} seconds\")\n",
    "print(f\"Average time for AI sort: {ai_time:.6f} seconds\")\n",
    "print(f\"AI sort is {manual_time / ai_time:.2f} times faster\")"
   ]
  },
  {
   "cell_type": "markdown",
   "metadata": {},
   "source": [
    "## Analysis\n",
    "\n",
    "### Time Complexity\n",
    "- **Manual Implementation**: Uses bubble sort, which has a worst-case time complexity of O(n²). This is inefficient for large datasets as the number of comparisons grows quadratically.\n",
    "- **AI Implementation**: Uses Python's built-in `sorted()` function, which employs Timsort (a hybrid of merge sort and insertion sort). Timsort has an average and worst-case time complexity of O(n log n), making it much more efficient for sorting large lists.\n",
    "\n",
    "### Runtime Performance\n",
    "From the timing results above, the AI implementation is significantly faster, especially as the dataset size increases. For n=1000, the difference is pronounced.\n",
    "\n",
    "### Why AI Implementation is More Efficient\n",
    "- **Algorithm Superiority**: O(n log n) vs O(n²) means the AI version scales better.\n",
    "- **Optimization**: Built-in functions are highly optimized in C and have been refined over years.\n",
    "- **Stability**: Timsort is stable, preserving the relative order of equal elements, which is beneficial.\n",
    "- **Code Simplicity**: The AI version is more concise and less error-prone.\n",
    "\n",
    "Overall, the AI-generated implementation is more efficient due to its use of a superior sorting algorithm."
   ]
  }
 ],
 "metadata": {
  "kernelspec": {
   "display_name": "Python 3",
   "language": "python",
   "name": "python3"
  },
  "language_info": {
   "codemirror_mode": {
    "name": "ipython",
    "version": 3
   },
   "file_extension": ".py",
   "mimetype": "text/x-python",
   "name": "python",
   "nbconvert_exporter": "python",
   "pygments_lexer": "ipython3",
   "version": "3.13.0"
  }
 },
 "nbformat": 4,
 "nbformat_minor": 4
}
